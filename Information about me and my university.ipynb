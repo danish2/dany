{
 "cells": [
  {
   "cell_type": "markdown",
   "metadata": {},
   "source": [
    "# student id : 0681817"
   ]
  },
  {
   "cell_type": "markdown",
   "metadata": {},
   "source": [
    "# Information about me\n"
   ]
  },
  {
   "cell_type": "code",
   "execution_count": 1,
   "metadata": {},
   "outputs": [
    {
     "name": "stdout",
     "output_type": "stream",
     "text": [
      "\n",
      " Hi! my name is Danish ahmed I like to play badminton and football\n"
     ]
    }
   ],
   "source": [
    "#This is the simplest of the codes for Python\n",
    "\n",
    "txt=\"my name is Danish ahmed \"\n",
    "txt2=\"I like to play badminton and football\"\n",
    "print('\\n Hi! '+txt+txt2)\n"
   ]
  },
  {
   "cell_type": "markdown",
   "metadata": {},
   "source": [
    "the above code shows that little bit of introduction of my self"
   ]
  },
  {
   "cell_type": "code",
   "execution_count": 2,
   "metadata": {},
   "outputs": [
    {
     "name": "stdout",
     "output_type": "stream",
     "text": [
      "\n",
      "I am studying in lake head university doing ms in electrical and computer engineering working as trainee engineer in past for 2 years \n"
     ]
    }
   ],
   "source": [
    "#education and experience\n",
    "txt=\"I am studying in lake head university doing ms in electrical and computer engineering\"\n",
    "txt2=\" working as trainee engineer in past for 2 years \"\n",
    "print('\\n'+txt+txt2)\n"
   ]
  },
  {
   "cell_type": "code",
   "execution_count": 3,
   "metadata": {},
   "outputs": [
    {
     "name": "stdout",
     "output_type": "stream",
     "text": [
      "\n",
      "lakehead university located in olivier road thunder bay is a city of ontario province\n"
     ]
    }
   ],
   "source": [
    "#about lake head and thunder bay\n",
    "txt=\"lakehead university located in olivier road \"\n",
    "txt2=\"thunder bay is a city of ontario province\"\n",
    "print('\\n'+txt+txt2)"
   ]
  },
  {
   "cell_type": "markdown",
   "metadata": {},
   "source": [
    "The above code shows university location and city information\n"
   ]
  }
 ],
 "metadata": {
  "anaconda-cloud": {},
  "kernelspec": {
   "display_name": "Python 2",
   "language": "python",
   "name": "python2"
  },
  "language_info": {
   "codemirror_mode": {
    "name": "ipython",
    "version": 2
   },
   "file_extension": ".py",
   "mimetype": "text/x-python",
   "name": "python",
   "nbconvert_exporter": "python",
   "pygments_lexer": "ipython2",
   "version": "2.7.13"
  }
 },
 "nbformat": 4,
 "nbformat_minor": 1
}
